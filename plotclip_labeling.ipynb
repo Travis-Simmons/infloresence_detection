{
 "cells": [
  {
   "cell_type": "markdown",
   "source": [
    "### We think that the model may not be learning because of the large images. Try splitting up the images by plotclip."
   ],
   "metadata": {}
  },
  {
   "cell_type": "markdown",
   "source": [],
   "metadata": {}
  }
 ],
 "metadata": {
  "orig_nbformat": 4,
  "language_info": {
   "name": "python"
  }
 },
 "nbformat": 4,
 "nbformat_minor": 2
}